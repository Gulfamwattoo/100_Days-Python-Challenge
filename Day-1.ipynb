{
 "cells": [
  {
   "cell_type": "markdown",
   "id": "3e19b8fc",
   "metadata": {},
   "source": [
    "# Day-01"
   ]
  },
  {
   "cell_type": "code",
   "execution_count": 1,
   "id": "f61ef9e1",
   "metadata": {},
   "outputs": [
    {
     "name": "stdout",
     "output_type": "stream",
     "text": [
      "Hello! I am starting my 100-days challenge\n"
     ]
    }
   ],
   "source": [
    "print(\"Hello! I am starting my 100-days challenge\")"
   ]
  },
  {
   "cell_type": "code",
   "execution_count": 3,
   "id": "f51fb1a6",
   "metadata": {},
   "outputs": [
    {
     "name": "stdout",
     "output_type": "stream",
     "text": [
      "Enter the First num:23\n",
      "Enter the Second num:43\n",
      "Multiplacation of 23 and 43 is: 989\n"
     ]
    }
   ],
   "source": [
    "num1=int(input(\"Enter the First num:\"))\n",
    "num2=int(input(\"Enter the Second num:\"))\n",
    "print(f\"Multiplacation of {num1} and {num2} is:\",num1*num2)"
   ]
  },
  {
   "cell_type": "code",
   "execution_count": 4,
   "id": "e3905e54",
   "metadata": {},
   "outputs": [
    {
     "name": "stdout",
     "output_type": "stream",
     "text": [
      "I am asking from \"all of you\" is it right way to display!\n"
     ]
    }
   ],
   "source": [
    "print('''I am asking from \"all of you\" is it right way to display!''')"
   ]
  },
  {
   "cell_type": "code",
   "execution_count": 5,
   "id": "76d1387a",
   "metadata": {},
   "outputs": [
    {
     "name": "stdout",
     "output_type": "stream",
     "text": [
      "I have found \"another way\" to display the string, hope you will like it!\n"
     ]
    }
   ],
   "source": [
    "print(\"I have found \\\"another way\\\" to display the string, hope you will like it!\")"
   ]
  },
  {
   "cell_type": "markdown",
   "id": "437a2692",
   "metadata": {},
   "source": [
    "String Manuplation"
   ]
  },
  {
   "cell_type": "code",
   "execution_count": 8,
   "id": "30a4c129",
   "metadata": {},
   "outputs": [
    {
     "name": "stdout",
     "output_type": "stream",
     "text": [
      "I am Gulfam\n",
      "I am Gulfam\n"
     ]
    }
   ],
   "source": [
    "print(\"I am Gulfam\\nI am Gulfam\")"
   ]
  },
  {
   "cell_type": "code",
   "execution_count": 10,
   "id": "abeee9a0",
   "metadata": {},
   "outputs": [
    {
     "name": "stdout",
     "output_type": "stream",
     "text": [
      "HelloGulfam\n",
      "Hello Gulfam\n",
      "Hello Gulfam\n"
     ]
    }
   ],
   "source": [
    "print(\"Hello\"+\"Gulfam\")\n",
    "print(\"Hello \"+ \"Gulfam\")\n",
    "print(\"Hello\"+\" \"+ \"Gulfam\")"
   ]
  },
  {
   "cell_type": "markdown",
   "id": "ff37e7e2",
   "metadata": {},
   "source": [
    "## Input() Function"
   ]
  },
  {
   "cell_type": "code",
   "execution_count": 12,
   "id": "72624450",
   "metadata": {},
   "outputs": [
    {
     "name": "stdout",
     "output_type": "stream",
     "text": [
      "What's your name?Gulfam\n"
     ]
    },
    {
     "data": {
      "text/plain": [
       "'Gulfam'"
      ]
     },
     "execution_count": 12,
     "metadata": {},
     "output_type": "execute_result"
    }
   ],
   "source": [
    "#input() Function is used to take input from user(console)\n",
    "\n",
    "input(\"What's your name?\")"
   ]
  },
  {
   "cell_type": "code",
   "execution_count": 14,
   "id": "31149497",
   "metadata": {},
   "outputs": [
    {
     "name": "stdout",
     "output_type": "stream",
     "text": [
      "What's your nameGulfam\n",
      "Hello Gulfam!\n"
     ]
    }
   ],
   "source": [
    "print(\"Hello \"+ input(\"What's your name\")+ \"!\")"
   ]
  },
  {
   "cell_type": "code",
   "execution_count": 16,
   "id": "d24dd39d",
   "metadata": {},
   "outputs": [
    {
     "name": "stdout",
     "output_type": "stream",
     "text": [
      "Gulfam Hussain\n",
      "14\n"
     ]
    }
   ],
   "source": [
    "count_len=len(input())\n",
    "print(count_len)"
   ]
  },
  {
   "cell_type": "code",
   "execution_count": 17,
   "id": "a9d49e4b",
   "metadata": {},
   "outputs": [
    {
     "name": "stdout",
     "output_type": "stream",
     "text": [
      "Gulfam\n",
      "Gulfam\n",
      "Hussain\n",
      "Hussain\n",
      "Wattoo\n",
      "Wattoo\n"
     ]
    }
   ],
   "source": [
    "print(input())\n",
    "print(input())\n",
    "print(input())"
   ]
  },
  {
   "cell_type": "code",
   "execution_count": 19,
   "id": "4405c681",
   "metadata": {},
   "outputs": [
    {
     "name": "stdout",
     "output_type": "stream",
     "text": [
      "Gulfam\n",
      "Hussain\n",
      "a: Hussain\n",
      "b: Gulfam\n"
     ]
    }
   ],
   "source": [
    "#Swap two variables-this will use for any type of data\n",
    "\n",
    "a=input()\n",
    "b=input()\n",
    "#create a third variable to swap value\n",
    "c=a\n",
    "a=b\n",
    "b=c\n",
    "print(\"a:\",a)\n",
    "print(\"b:\",b)"
   ]
  },
  {
   "cell_type": "code",
   "execution_count": 21,
   "id": "76f9288d",
   "metadata": {},
   "outputs": [
    {
     "name": "stdout",
     "output_type": "stream",
     "text": [
      "12\n",
      "13\n",
      "a: 13\n",
      "b: 12\n"
     ]
    }
   ],
   "source": [
    "#swap two numbers only in the form of integer\n",
    "a=int(input())\n",
    "b=int(input())\n",
    "#create a third variable to swap value\n",
    "c=a+b\n",
    "a=c-a\n",
    "b=c-b\n",
    "print(\"a:\",a)\n",
    "print(\"b:\",b)"
   ]
  },
  {
   "cell_type": "markdown",
   "id": "bc6293da",
   "metadata": {},
   "source": [
    "# Day-1 Project "
   ]
  },
  {
   "cell_type": "code",
   "execution_count": 30,
   "id": "22e7b964",
   "metadata": {},
   "outputs": [
    {
     "name": "stdout",
     "output_type": "stream",
     "text": [
      "Welcome to the Brand Name Generatorn\n",
      "What's the name of city you grew up?\n",
      "lahore\n",
      "What's you pet Name?\n",
      "loin\n",
      "Your Band name could be lahore loin\n"
     ]
    }
   ],
   "source": [
    "#Brand Name Generator \n",
    "print(\"Welcome to the Brand Name Generatorn\")\n",
    "#Take input from the user\n",
    "city=input(\"What's the name of city you grew up?\\n\")\n",
    "pet=input(\"What's you pet Name?\\n\")\n",
    "\n",
    "#output of the given input \n",
    "print(f\"Your Band name could be {city} {pet}\")"
   ]
  },
  {
   "cell_type": "markdown",
   "id": "a5ec1569",
   "metadata": {},
   "source": [
    "# DAY_1 Practise Question"
   ]
  },
  {
   "cell_type": "markdown",
   "id": "991d4612",
   "metadata": {},
   "source": [
    "## Number Guessing Game"
   ]
  },
  {
   "cell_type": "code",
   "execution_count": 31,
   "id": "fd2587b9",
   "metadata": {},
   "outputs": [],
   "source": [
    "import random"
   ]
  },
  {
   "cell_type": "code",
   "execution_count": 36,
   "id": "504252fb",
   "metadata": {},
   "outputs": [
    {
     "name": "stdout",
     "output_type": "stream",
     "text": [
      "Enter the number:3\n",
      "To low\n",
      "Enter the number again:4\n",
      "To low\n",
      "Enter the number again:2\n",
      "To low\n",
      "Enter the number again:3\n",
      "To low\n",
      "Enter the number again:4\n",
      "To low\n",
      "Enter the number again:5\n",
      "you guessed it right\n"
     ]
    }
   ],
   "source": [
    "n=random.randrange(1,10)\n",
    "guess= int(input(\"Enter the number:\"))\n",
    "while n!=guess:\n",
    "    if guess<n:\n",
    "        print(\"To low\")\n",
    "        guess= int(input(\"Enter the number again:\"))\n",
    "    elif guess >n:\n",
    "        print(\"To high\")\n",
    "        guess= int(input(\"Enter the number again:\"))\n",
    "    else:\n",
    "        break\n",
    "print(\"you guessed it right\")"
   ]
  },
  {
   "cell_type": "markdown",
   "id": "c116a3c9",
   "metadata": {},
   "source": []
  }
 ],
 "metadata": {
  "kernelspec": {
   "display_name": "Python 3 (ipykernel)",
   "language": "python",
   "name": "python3"
  },
  "language_info": {
   "codemirror_mode": {
    "name": "ipython",
    "version": 3
   },
   "file_extension": ".py",
   "mimetype": "text/x-python",
   "name": "python",
   "nbconvert_exporter": "python",
   "pygments_lexer": "ipython3",
   "version": "3.9.13"
  }
 },
 "nbformat": 4,
 "nbformat_minor": 5
}
